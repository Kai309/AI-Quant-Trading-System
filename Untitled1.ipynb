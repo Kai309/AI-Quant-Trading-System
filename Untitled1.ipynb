{
 "cells": [
  {
   "cell_type": "markdown",
   "id": "0edb3c1b-056e-431a-af87-fc03d4cc5c4c",
   "metadata": {},
   "source": [
    "# Tiingo API Key (Make sure this is stored securely)\n",
    "TIINGO_API_KEY = \"1a5aed77244ad222d7b682fa7bfbb59e2a6020a5\"\n"
   ]
  },
  {
   "cell_type": "code",
   "execution_count": 7,
   "id": "f761a88b-b2af-4bbf-a941-e53b927d8fc8",
   "metadata": {},
   "outputs": [
    {
     "name": "stdout",
     "output_type": "stream",
     "text": [
      "Selected stocks: ['NFLX', 'PYPL', 'META', 'AMD', 'TSLA', 'NVDA']\n"
     ]
    }
   ],
   "source": [
    "import fetch_data\n",
    "\n",
    "stocks = fetch_data.get_stocks_by_volatility(\"Low\")\n",
    "print(\"Selected stocks:\", stocks)\n"
   ]
  },
  {
   "cell_type": "code",
   "execution_count": 9,
   "id": "b4049785-7f98-49b1-87fe-60d3bb7a7103",
   "metadata": {},
   "outputs": [
    {
     "name": "stdout",
     "output_type": "stream",
     "text": [
      "                         date   price      high      low     open     volume  \\\n",
      "0   2023-01-03 00:00:00+00:00  125.07  130.9000  124.170  130.280  112117471   \n",
      "1   2023-01-04 00:00:00+00:00  126.36  128.6557  125.080  126.890   89113633   \n",
      "2   2023-01-05 00:00:00+00:00  125.02  127.7700  124.760  127.130   80962708   \n",
      "3   2023-01-06 00:00:00+00:00  129.62  130.2900  124.890  126.010   87754715   \n",
      "4   2023-01-09 00:00:00+00:00  130.15  133.4100  129.890  130.465   70790813   \n",
      "..                        ...     ...       ...      ...      ...        ...   \n",
      "245 2023-12-22 00:00:00+00:00  193.60  195.4100  192.970  195.180   37149570   \n",
      "246 2023-12-26 00:00:00+00:00  193.05  193.8900  192.830  193.610   28919310   \n",
      "247 2023-12-27 00:00:00+00:00  193.15  193.5000  191.090  192.490   47899806   \n",
      "248 2023-12-28 00:00:00+00:00  193.58  194.6600  193.170  194.140   34049898   \n",
      "249 2023-12-29 00:00:00+00:00  192.53  194.4000  191.725  193.900   42672148   \n",
      "\n",
      "       adjClose     adjHigh      adjLow     adjOpen  adjVolume  divCash  \\\n",
      "0    123.636303  129.399473  122.746620  128.786580  112117471      0.0   \n",
      "1    124.911516  127.180900  123.646188  125.435440   89113633      0.0   \n",
      "2    123.586876  126.305353  123.329857  125.672689   80962708      0.0   \n",
      "3    128.134146  128.796465  123.458366  124.565528   87754715      0.0   \n",
      "4    128.658070  131.880700  128.401051  128.969459   70790813      0.0   \n",
      "..          ...         ...         ...         ...        ...      ...   \n",
      "245  192.445352  194.244557  191.819109  194.015928   37149570      0.0   \n",
      "246  191.898632  192.733622  191.679944  192.455292   28919310      0.0   \n",
      "247  191.998035  192.345948  189.950321  191.341972   47899806      0.0   \n",
      "248  192.425471  193.499030  192.017916  192.982131   34049898      0.0   \n",
      "249  191.381733  193.240580  190.581534  192.743562   42672148      0.0   \n",
      "\n",
      "     splitFactor  \n",
      "0            1.0  \n",
      "1            1.0  \n",
      "2            1.0  \n",
      "3            1.0  \n",
      "4            1.0  \n",
      "..           ...  \n",
      "245          1.0  \n",
      "246          1.0  \n",
      "247          1.0  \n",
      "248          1.0  \n",
      "249          1.0  \n",
      "\n",
      "[250 rows x 13 columns]\n"
     ]
    }
   ],
   "source": [
    "print(fetch_data.get_tiingo_stock_data(\"AAPL\", start_date=\"2023-01-01\", end_date=\"2024-01-01\"))\n"
   ]
  },
  {
   "cell_type": "code",
   "execution_count": null,
   "id": "7056a16f-2fcd-4a48-8657-0c825b489488",
   "metadata": {},
   "outputs": [],
   "source": []
  }
 ],
 "metadata": {
  "kernelspec": {
   "display_name": "Python 3 (ipykernel)",
   "language": "python",
   "name": "python3"
  },
  "language_info": {
   "codemirror_mode": {
    "name": "ipython",
    "version": 3
   },
   "file_extension": ".py",
   "mimetype": "text/x-python",
   "name": "python",
   "nbconvert_exporter": "python",
   "pygments_lexer": "ipython3",
   "version": "3.12.5"
  }
 },
 "nbformat": 4,
 "nbformat_minor": 5
}
